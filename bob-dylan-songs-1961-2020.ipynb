{
 "cells": [
  {
   "cell_type": "markdown",
   "metadata": {},
   "source": [
    "# Bob Dylan songs 1961 - 2020"
   ]
  },
  {
   "cell_type": "markdown",
   "metadata": {},
   "source": [
    "\n",
    "**This dataset contains songs from years between 1961 to 2020 written by Bob Dylan.**\n",
    "\n",
    "\n",
    "**There are 4 columns:**\n",
    "\n",
    "* release_year - year when song was released first time,\n",
    "* album - name of the album where track occurs,\n",
    "* title - title of the song,\n",
    "* lyrics - lyrics of the track\n",
    "\n",
    "**Acknowledgements**\n",
    "\n",
    "\n",
    "This dataset contains only songs that Bob Dylan himself has written and published.\n",
    "There's many songs that Bob Dylan only covered so I didn't include them because he's not the original author.\n",
    "For instance album World Gone Wrong contains only old folks songs.\n",
    "\n",
    "\n",
    "**Inspiration**\n",
    "\n",
    "\n",
    "I'm great Bob Dylan fan. I listen to his songs almost every day from many years.\n",
    "I also play them and sing them so now I decided to make dataset and play with them on kaggle as well."
   ]
  },
  {
   "cell_type": "markdown",
   "metadata": {},
   "source": [
    "I also wanna mention - of course it's not all Bob Dylan songs - there might be more I don't know.\n",
    "\n",
    "**For instance:**\n",
    "\n",
    "\n",
    "I didn't include Wanted Man - written by Bob Dylan but played mostly by Johnny Cash. There's one video of Bob Dylan play this song with Johhny Cash:\n",
    "\n",
    "\n",
    "[video](https://www.youtube.com/watch?v=iiRMfb3Z9hg)\n",
    "\n",
    "amazing version by the way... \n",
    "\n",
    "anyway:\n",
    "\n",
    "Love Is Just Four Letter Word - song written by Bob Dylan but never occur on his albums or lives so I didn't include it\n",
    "\n",
    "\n",
    "And I'm sure there's more, more songs that Dylan written but we don't know about them because Bob didn't want to publish them.\n"
   ]
  },
  {
   "cell_type": "markdown",
   "metadata": {},
   "source": [
    "## 1. Wordclouds"
   ]
  },
  {
   "cell_type": "code",
   "execution_count": null,
   "metadata": {
    "_cell_guid": "b1076dfc-b9ad-4769-8c92-a6c4dae69d19",
    "_kg_hide-input": true,
    "_uuid": "8f2839f25d086af736a60e9eeb907d3b93b6e0e5",
    "execution": {
     "iopub.execute_input": "2021-11-26T19:11:56.585652Z",
     "iopub.status.busy": "2021-11-26T19:11:56.584766Z",
     "iopub.status.idle": "2021-11-26T19:11:58.134918Z",
     "shell.execute_reply": "2021-11-26T19:11:58.134009Z",
     "shell.execute_reply.started": "2021-11-26T19:11:56.585515Z"
    }
   },
   "outputs": [],
   "source": [
    "import pandas as pd\n",
    "\n",
    "from collections import Counter, OrderedDict\n",
    "import matplotlib.pyplot as plt\n",
    "\n",
    "import plotly.express as px\n",
    "import plotly.graph_objects as go\n",
    "\n",
    "from wordcloud import WordCloud, STOPWORDS\n",
    "from PIL import Image\n",
    "\n",
    "import re\n",
    "\n",
    "import numpy as np\n",
    "\n",
    "import requests\n",
    "from io import BytesIO"
   ]
  },
  {
   "cell_type": "code",
   "execution_count": 1,
   "metadata": {
    "_kg_hide-input": true,
    "execution": {
     "iopub.execute_input": "2021-11-26T19:11:58.1367Z",
     "iopub.status.busy": "2021-11-26T19:11:58.13645Z",
     "iopub.status.idle": "2021-11-26T19:11:58.212774Z",
     "shell.execute_reply": "2021-11-26T19:11:58.211972Z",
     "shell.execute_reply.started": "2021-11-26T19:11:58.13667Z"
    }
   },
   "outputs": [
    {
     "data": {
      "application/javascript": [
       "\n",
       "        if (window._pyforest_update_imports_cell) { window._pyforest_update_imports_cell('import pandas as pd'); }\n",
       "    "
      ],
      "text/plain": [
       "<IPython.core.display.Javascript object>"
      ]
     },
     "metadata": {},
     "output_type": "display_data"
    }
   ],
   "source": [
    "df = pd.read_csv('clear.csv')"
   ]
  },
  {
   "cell_type": "code",
   "execution_count": null,
   "metadata": {
    "_kg_hide-input": true,
    "execution": {
     "iopub.execute_input": "2021-11-26T19:11:58.214655Z",
     "iopub.status.busy": "2021-11-26T19:11:58.214229Z",
     "iopub.status.idle": "2021-11-26T19:11:58.234963Z",
     "shell.execute_reply": "2021-11-26T19:11:58.234378Z",
     "shell.execute_reply.started": "2021-11-26T19:11:58.214624Z"
    }
   },
   "outputs": [],
   "source": [
    "df.head()"
   ]
  },
  {
   "cell_type": "code",
   "execution_count": null,
   "metadata": {
    "_kg_hide-input": true,
    "execution": {
     "iopub.execute_input": "2021-11-26T19:11:58.237107Z",
     "iopub.status.busy": "2021-11-26T19:11:58.236768Z",
     "iopub.status.idle": "2021-11-26T19:11:58.247299Z",
     "shell.execute_reply": "2021-11-26T19:11:58.246526Z",
     "shell.execute_reply.started": "2021-11-26T19:11:58.237076Z"
    }
   },
   "outputs": [],
   "source": [
    "df.tail()"
   ]
  },
  {
   "cell_type": "markdown",
   "metadata": {},
   "source": [
    "This dataset is duplicates free"
   ]
  },
  {
   "cell_type": "code",
   "execution_count": null,
   "metadata": {
    "_kg_hide-input": true,
    "execution": {
     "iopub.execute_input": "2021-11-26T19:11:58.250403Z",
     "iopub.status.busy": "2021-11-26T19:11:58.248847Z",
     "iopub.status.idle": "2021-11-26T19:11:58.276166Z",
     "shell.execute_reply": "2021-11-26T19:11:58.275285Z",
     "shell.execute_reply.started": "2021-11-26T19:11:58.250361Z"
    }
   },
   "outputs": [],
   "source": [
    "df[df.duplicated()]"
   ]
  },
  {
   "cell_type": "code",
   "execution_count": null,
   "metadata": {
    "_kg_hide-input": true,
    "execution": {
     "iopub.execute_input": "2021-11-26T19:11:58.277689Z",
     "iopub.status.busy": "2021-11-26T19:11:58.277432Z",
     "iopub.status.idle": "2021-11-26T19:11:58.283386Z",
     "shell.execute_reply": "2021-11-26T19:11:58.282511Z",
     "shell.execute_reply.started": "2021-11-26T19:11:58.277659Z"
    }
   },
   "outputs": [],
   "source": [
    "def string_to_lower(series_name:str, data_frame=df):\n",
    "    \"\"\"this function takes name of pandas series from data frame\n",
    "    changing all words to lowercase in this series \n",
    "    and saves it in place in data frame\n",
    "    \n",
    "    arguments:\n",
    "    series_name: str\n",
    "    data_frame: pandas DataFrame (by defult df)\n",
    "    \"\"\"\n",
    "    \n",
    "    df[series_name] = df[series_name].apply(\n",
    "        lambda x: ' '.join(w for w in str(x). lower().split()))\n",
    "\n",
    "\n"
   ]
  },
  {
   "cell_type": "code",
   "execution_count": null,
   "metadata": {
    "_kg_hide-input": true,
    "execution": {
     "iopub.execute_input": "2021-11-26T19:11:58.284709Z",
     "iopub.status.busy": "2021-11-26T19:11:58.284387Z",
     "iopub.status.idle": "2021-11-26T19:11:58.320185Z",
     "shell.execute_reply": "2021-11-26T19:11:58.319472Z",
     "shell.execute_reply.started": "2021-11-26T19:11:58.284683Z"
    }
   },
   "outputs": [],
   "source": [
    "string_columns = df.select_dtypes(exclude=[np.number]).columns\n",
    "\n",
    "for column in string_columns:\n",
    "    string_to_lower(column)"
   ]
  },
  {
   "cell_type": "code",
   "execution_count": null,
   "metadata": {
    "_kg_hide-input": true,
    "execution": {
     "iopub.execute_input": "2021-11-26T19:11:58.321633Z",
     "iopub.status.busy": "2021-11-26T19:11:58.321301Z",
     "iopub.status.idle": "2021-11-26T19:11:58.324591Z",
     "shell.execute_reply": "2021-11-26T19:11:58.32409Z",
     "shell.execute_reply.started": "2021-11-26T19:11:58.321605Z"
    }
   },
   "outputs": [],
   "source": [
    "url = \"https://raw.githubusercontent.com/Cloudy17g35/bob_dylan_songs/main/dylan_photo.jpeg\""
   ]
  },
  {
   "cell_type": "code",
   "execution_count": null,
   "metadata": {
    "_kg_hide-input": true,
    "execution": {
     "iopub.execute_input": "2021-11-26T19:11:58.325758Z",
     "iopub.status.busy": "2021-11-26T19:11:58.325521Z",
     "iopub.status.idle": "2021-11-26T19:11:58.338464Z",
     "shell.execute_reply": "2021-11-26T19:11:58.33766Z",
     "shell.execute_reply.started": "2021-11-26T19:11:58.325732Z"
    }
   },
   "outputs": [],
   "source": [
    "\n",
    "def word_cloud_from_shape(column_name:str, data_frame=df, url=url):\n",
    "    \"\"\"this function takes column name from data fram\n",
    "    returns wordcloud object with shape based on image(given as url)\"\"\"\n",
    "    \n",
    "    \n",
    "    clear = []\n",
    "\n",
    "    for lyric in data_frame[column_name]:\n",
    "\n",
    "        words = lyric.split()\n",
    "\n",
    "        for word in words:\n",
    "\n",
    "            word = word.replace('’', \"'\").strip().replace(' ', '').replace(',', '')\n",
    "            if word not in STOPWORDS:\n",
    "                clear.append(word)\n",
    "    \n",
    "    freq_table = Counter(clear)\n",
    "    \n",
    "    \n",
    "    url = url\n",
    "    response = requests.get(url)\n",
    "    img = Image.open(BytesIO(response.content))\n",
    "\n",
    "\n",
    "    dylan_mask = np.array(img)\n",
    "\n",
    "    wc = WordCloud(background_color='black', max_words= 1000, mask=dylan_mask)\n",
    "\n",
    "    \n",
    "    \n",
    "    wc.generate_from_frequencies(freq_table)\n",
    "\n",
    "    plt.figure(figsize=(20,20))\n",
    "\n",
    "    plt.xticks([])\n",
    "    plt.yticks([])\n",
    "    plt.imshow(wc, interpolation='nearest')\n",
    "    plt.show()"
   ]
  },
  {
   "cell_type": "code",
   "execution_count": null,
   "metadata": {
    "_kg_hide-input": true,
    "execution": {
     "iopub.execute_input": "2021-11-26T19:11:58.342153Z",
     "iopub.status.busy": "2021-11-26T19:11:58.341763Z",
     "iopub.status.idle": "2021-11-26T19:12:42.31799Z",
     "shell.execute_reply": "2021-11-26T19:12:42.317079Z",
     "shell.execute_reply.started": "2021-11-26T19:11:58.342121Z"
    }
   },
   "outputs": [],
   "source": [
    "for column in string_columns:\n",
    "    print(column)\n",
    "    word_cloud_from_shape(column)"
   ]
  },
  {
   "cell_type": "code",
   "execution_count": null,
   "metadata": {
    "_kg_hide-input": true,
    "execution": {
     "iopub.execute_input": "2021-11-26T19:12:42.319698Z",
     "iopub.status.busy": "2021-11-26T19:12:42.319441Z",
     "iopub.status.idle": "2021-11-26T19:12:42.327702Z",
     "shell.execute_reply": "2021-11-26T19:12:42.326504Z",
     "shell.execute_reply.started": "2021-11-26T19:12:42.319668Z"
    }
   },
   "outputs": [],
   "source": [
    "def frequency_for_year(year: int):\n",
    "    \"\"\"this function takes integer(year when song was published)\n",
    "    returns freq_table of words from songs from based on this particular year\n",
    "    \n",
    "    arguments: year: int\n",
    "    \n",
    "    returns: frequency table: dict\"\"\"\n",
    "    \n",
    "    unique_years: list = set(df['release_year'].values)\n",
    "    \n",
    "    # if year is not in years\n",
    "    \n",
    "    if year not in unique_years:\n",
    "        return f\"there's no songs from year {year}\"\n",
    "    \n",
    "    temp_df = df[df['release_year'] == year]\n",
    "    result = []\n",
    "    \n",
    "    \n",
    "    # iterating overt lyrics\n",
    "    for lyric in temp_df['lyrics']:\n",
    "    \n",
    "        words = lyric.split()\n",
    "        for word in words:\n",
    "            word = word.replace('’', \"'\").strip().replace(' ', '').replace(',', '')\n",
    "                \n",
    "            if word not in STOPWORDS:\n",
    "                result.append(word)\n",
    "                    \n",
    "    return Counter(result)"
   ]
  },
  {
   "cell_type": "code",
   "execution_count": null,
   "metadata": {
    "_kg_hide-input": true,
    "execution": {
     "iopub.execute_input": "2021-11-26T19:12:42.32967Z",
     "iopub.status.busy": "2021-11-26T19:12:42.329357Z",
     "iopub.status.idle": "2021-11-26T19:12:42.340594Z",
     "shell.execute_reply": "2021-11-26T19:12:42.339852Z",
     "shell.execute_reply.started": "2021-11-26T19:12:42.329629Z"
    }
   },
   "outputs": [],
   "source": [
    "def make_wordcloud_for_year(frequency: dict):\n",
    "    \n",
    "    \n",
    "    \"\"\"This function takes frequency of words saved in dictionary\n",
    "    returns wordcloud object\"\"\"\n",
    "    \n",
    "    \n",
    "    wc = WordCloud(max_font_size=40,width=500, height=200).generate_from_frequencies(frequency_for_year(year))\n",
    "    \n",
    "    plt.figure(figsize=(20, 20))\n",
    "    plt.imshow(wc, interpolation='bilinear')\n",
    "    plt.xticks([])\n",
    "    plt.yticks([])\n",
    "    plt.show()"
   ]
  },
  {
   "cell_type": "code",
   "execution_count": null,
   "metadata": {
    "_kg_hide-input": true,
    "execution": {
     "iopub.execute_input": "2021-11-26T19:12:42.341748Z",
     "iopub.status.busy": "2021-11-26T19:12:42.341523Z",
     "iopub.status.idle": "2021-11-26T19:13:04.357856Z",
     "shell.execute_reply": "2021-11-26T19:13:04.357145Z",
     "shell.execute_reply.started": "2021-11-26T19:12:42.341722Z"
    }
   },
   "outputs": [],
   "source": [
    "# making loop and showing the wordcloud for every year since 1961 to 2020\n",
    "for year in range(1960, 2021):\n",
    "    \n",
    "    try:\n",
    "        print(year)\n",
    "        make_wordcloud_for_year(frequency_for_year(year))\n",
    "        \n",
    "    except AttributeError:\n",
    "        print(f\"theres no song from this year!\")"
   ]
  },
  {
   "cell_type": "code",
   "execution_count": null,
   "metadata": {
    "_kg_hide-input": true,
    "execution": {
     "iopub.execute_input": "2021-11-26T19:13:04.359311Z",
     "iopub.status.busy": "2021-11-26T19:13:04.359101Z",
     "iopub.status.idle": "2021-11-26T19:13:04.366437Z",
     "shell.execute_reply": "2021-11-26T19:13:04.365361Z",
     "shell.execute_reply.started": "2021-11-26T19:13:04.359283Z"
    }
   },
   "outputs": [],
   "source": [
    "def frequency_for_years(start: int, end: int):\n",
    "    \"\"\"this function takes two integers start and end\n",
    "    \n",
    "    returns freq_table of words from year between start and end\n",
    "    \n",
    "    arguments:\n",
    "    \n",
    "    start: int - first year\n",
    "    end: int - last year\n",
    "    \n",
    "    returns: frequency table: dict\"\"\"\n",
    "    \n",
    "    temp_df = df[df['release_year'].between(start, end)]\n",
    "    result = []\n",
    "    \n",
    "    \n",
    "    for lyric in temp_df['lyrics']:\n",
    "    \n",
    "        words = lyric.split()\n",
    "        for word in words:\n",
    "            word = word.replace('’', \"'\").strip().replace(' ', '').replace(',', '')\n",
    "                \n",
    "            if word not in STOPWORDS:\n",
    "                result.append(word)\n",
    "                    \n",
    "    return Counter(result)\n",
    "    "
   ]
  },
  {
   "cell_type": "code",
   "execution_count": null,
   "metadata": {
    "_kg_hide-input": true,
    "execution": {
     "iopub.execute_input": "2021-11-26T19:13:04.368193Z",
     "iopub.status.busy": "2021-11-26T19:13:04.367903Z",
     "iopub.status.idle": "2021-11-26T19:13:04.382349Z",
     "shell.execute_reply": "2021-11-26T19:13:04.381653Z",
     "shell.execute_reply.started": "2021-11-26T19:13:04.368166Z"
    }
   },
   "outputs": [],
   "source": [
    "def make_wordcloud_for_decade(frequency):\n",
    "    \n",
    "    \n",
    "    \"\"\"this function takes one paramer it's frequency of words in\n",
    "    particular decade\n",
    "    arguments:\n",
    "    frequency: dict - dictionary with frequencies of words\"\"\"\n",
    "    \n",
    "    \n",
    "    wc = WordCloud(max_font_size=40,width=500, height=200).generate_from_frequencies((frequency))\n",
    "    \n",
    "    plt.figure(figsize=(20, 20))\n",
    "    plt.imshow(wc, interpolation='bilinear')\n",
    "    plt.xticks([])\n",
    "    plt.yticks([])\n",
    "    plt.show()"
   ]
  },
  {
   "cell_type": "code",
   "execution_count": null,
   "metadata": {
    "_kg_hide-input": true,
    "execution": {
     "iopub.execute_input": "2021-11-26T19:13:04.384094Z",
     "iopub.status.busy": "2021-11-26T19:13:04.38349Z",
     "iopub.status.idle": "2021-11-26T19:13:08.751229Z",
     "shell.execute_reply": "2021-11-26T19:13:08.750385Z",
     "shell.execute_reply.started": "2021-11-26T19:13:04.384058Z"
    }
   },
   "outputs": [],
   "source": [
    "start: int = 1960\n",
    "end: int = 1970\n",
    "\n",
    "for x in range(6):\n",
    "    print(f\"{start} - {end}\")\n",
    "    make_wordcloud_for_decade(frequency_for_years(start, end))\n",
    "    start, end = end, end + 10\n",
    "\n"
   ]
  },
  {
   "cell_type": "markdown",
   "metadata": {},
   "source": [
    "## 2 . SONGS DISTRIBUTION BY YEARS"
   ]
  },
  {
   "cell_type": "markdown",
   "metadata": {},
   "source": [
    "Let's see distribution of songs for each year:"
   ]
  },
  {
   "cell_type": "code",
   "execution_count": null,
   "metadata": {
    "_kg_hide-input": true,
    "execution": {
     "iopub.execute_input": "2021-11-26T19:13:08.753156Z",
     "iopub.status.busy": "2021-11-26T19:13:08.75271Z",
     "iopub.status.idle": "2021-11-26T19:13:08.760538Z",
     "shell.execute_reply": "2021-11-26T19:13:08.75981Z",
     "shell.execute_reply.started": "2021-11-26T19:13:08.753119Z"
    }
   },
   "outputs": [],
   "source": [
    "distribution = df['release_year'].value_counts().sort_index()"
   ]
  },
  {
   "cell_type": "code",
   "execution_count": null,
   "metadata": {
    "_kg_hide-input": true,
    "execution": {
     "iopub.execute_input": "2021-11-26T19:13:08.762258Z",
     "iopub.status.busy": "2021-11-26T19:13:08.761646Z",
     "iopub.status.idle": "2021-11-26T19:13:09.79504Z",
     "shell.execute_reply": "2021-11-26T19:13:09.794457Z",
     "shell.execute_reply.started": "2021-11-26T19:13:08.762222Z"
    }
   },
   "outputs": [],
   "source": [
    "fig = px.bar(x=distribution.index, y=distribution.values)\n",
    "\n",
    "fig.update_layout(font=dict(family='Lato', size=18, color='white'), \n",
    "                  title=dict(text='<b>Bob Dylan songs in years 1961- 2020<b>',\n",
    "                           font=dict(size=30), x=.5), \n",
    "                  paper_bgcolor= 'black', plot_bgcolor='black',\n",
    "                 xaxis = dict(title='Year of release', showgrid=False),\n",
    "                 yaxis=dict(title= 'number_of_songs', showgrid=False))"
   ]
  }
 ],
 "metadata": {
  "kernelspec": {
   "display_name": "Python 3",
   "language": "python",
   "name": "python3"
  },
  "language_info": {
   "codemirror_mode": {
    "name": "ipython",
    "version": 3
   },
   "file_extension": ".py",
   "mimetype": "text/x-python",
   "name": "python",
   "nbconvert_exporter": "python",
   "pygments_lexer": "ipython3",
   "version": "3.8.5"
  }
 },
 "nbformat": 4,
 "nbformat_minor": 4
}
